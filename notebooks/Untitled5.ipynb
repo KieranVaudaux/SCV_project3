{
 "cells": [
  {
   "cell_type": "code",
   "execution_count": 38,
   "id": "b707a5f6",
   "metadata": {},
   "outputs": [],
   "source": [
    "import scipy as sc\n",
    "import matplotlib as mpl\n",
    "import matplotlib.pyplot as plt\n",
    "import seaborn as sns\n",
    "import numpy as np\n",
    "import pandas as pd\n",
    "from datetime import datetime\n",
    "from datetime import date\n",
    "import statistics as st\n",
    "from statsmodels.graphics.gofplots import qqplot\n",
    "from statsmodels.tsa.seasonal import seasonal_decompose\n",
    "from statsmodels.tsa.seasonal import STL\n",
    "import statsmodels.api as sm\n",
    "from statsmodels.tsa.arima.model import ARIMA\n",
    "from statsmodels.tsa.stattools import adfuller, kpss\n",
    "from statsmodels.distributions.empirical_distribution import ECDF\n",
    "from TimeSerie_fct import create_monthly_avg_time_serie\n",
    "import statsmodels.api as sm\n",
    "from sklearn.linear_model import LinearRegression\n",
    "from statsmodels.tsa.stattools import acf, pacf\n",
    "from sklearn.utils import resample\n",
    "import os\n",
    "import calendar\n",
    "\n",
    "\n",
    "data_temperature = pd.read_table('../data/observatoire-geneve/TX_STAID000241.txt',sep = ',',\n",
    "                                names = ['SOUID','DATE','Max','Q_TG'], skiprows = range(0,20))\n",
    "\n",
    "data_temperature.drop(data_temperature[ data_temperature['Q_TG'] == 9 ].index, inplace = True)\n",
    "data_temperature['Year'] = [int(str(d)[:4]) for d in data_temperature.DATE]\n",
    "data_temperature['Month'] = [int(str(d)[4:6]) for d in data_temperature.DATE]\n",
    "data_temperature['Day'] = [int(str(d)[6:8]) for d in data_temperature.DATE]\n",
    "\n",
    "#Compute the day of the year for each year\n",
    "day_of_year = np.array(len(data_temperature['Day']))\n",
    "Years = data_temperature.Year.unique()\n",
    "adate = [datetime.strptime(str(date),\"%Y%m%d\") for date in data_temperature.DATE]\n",
    "data_temperature['Day_of_year'] = [d.timetuple().tm_yday for d in adate]\n",
    "data_temperature.Max = data_temperature.Max/10.\n",
    "data_temperature[\"Date\"] = [(str(d)[:4]+str('-')+str(d)[4:6]+str('-')+str(d)[6:8]) for d in data_temperature.DATE]"
   ]
  },
  {
   "cell_type": "code",
   "execution_count": 39,
   "id": "b6c93501",
   "metadata": {},
   "outputs": [],
   "source": [
    "df_max = data_temperature.copy()\n",
    "df_max.to_csv(\"DataGenerated/DailyEVA/Daily_max.csv\",index=True)"
   ]
  },
  {
   "cell_type": "code",
   "execution_count": 41,
   "id": "0ce77ce0",
   "metadata": {},
   "outputs": [],
   "source": [
    "data_temperature = pd.read_table('../data/observatoire-geneve/TN_STAID000241.txt',sep = ',',\n",
    "                                names = ['SOUID','DATE','Min','Q_TG'], skiprows = range(0,20))\n",
    "\n",
    "data_temperature.drop(data_temperature[ data_temperature['Q_TG'] == 9 ].index, inplace = True)\n",
    "data_temperature['Year'] = [int(str(d)[:4]) for d in data_temperature.DATE]\n",
    "data_temperature['Month'] = [int(str(d)[4:6]) for d in data_temperature.DATE]\n",
    "data_temperature['Day'] = [int(str(d)[6:8]) for d in data_temperature.DATE]\n",
    "\n",
    "#Compute the day of the year for each year\n",
    "day_of_year = np.array(len(data_temperature['Day']))\n",
    "\n",
    "adate = [datetime.strptime(str(date),\"%Y%m%d\") for date in data_temperature.DATE]\n",
    "data_temperature['Day_of_year'] = [d.timetuple().tm_yday for d in adate]\n",
    "data_temperature.Min = data_temperature.Min/10.\n",
    "data_temperature[\"Date\"] = [(str(d)[:4]+str('-')+str(d)[4:6]+str('-')+str(d)[6:8]) for d in data_temperature.DATE]"
   ]
  },
  {
   "cell_type": "code",
   "execution_count": 42,
   "id": "f060b37c",
   "metadata": {},
   "outputs": [],
   "source": [
    "df_min = data_temperature.copy()\n",
    "df_min.to_csv(\"DataGenerated/DailyEVA/Daily_min.csv\",index=True)"
   ]
  },
  {
   "cell_type": "code",
   "execution_count": 46,
   "id": "308a26bc",
   "metadata": {},
   "outputs": [
    {
     "data": {
      "text/plain": [
       "'January'"
      ]
     },
     "execution_count": 46,
     "metadata": {},
     "output_type": "execute_result"
    }
   ],
   "source": [
    "info_max = pd.DataFrame(columns=[\"mean\",\"median\",\"std\"]) \n",
    "calendar.month_name[1]"
   ]
  },
  {
   "cell_type": "code",
   "execution_count": 91,
   "id": "44b578b6",
   "metadata": {},
   "outputs": [],
   "source": [
    "parameter_stability_plot_estimate_threshold = pd.DataFrame(columns=calendar.month_name[1:],index = [\"estimate\"])\n",
    "estimate = np.array([11.,15.,18.,23.5,28.,32.,33.,32.,29.,23.,17.,15.])\n",
    "parameter_stability_plot_estimate_threshold.iloc[0] = estimate\n",
    "parameter_stability_plot_estimate_threshold.to_csv(\"DataGenerated/DailyEVA/Parameters_stability/visual_estimate.csv\",index=True)"
   ]
  },
  {
   "cell_type": "code",
   "execution_count": 101,
   "id": "e53fb65a",
   "metadata": {},
   "outputs": [],
   "source": [
    "p = pd.read_csv(\"DataGenerated/DailyEVA/Parameters_stability/visual_estimate.csv\")\n"
   ]
  },
  {
   "cell_type": "code",
   "execution_count": 136,
   "id": "2fe0ea17",
   "metadata": {},
   "outputs": [
    {
     "ename": "SyntaxError",
     "evalue": "invalid syntax (2791706930.py, line 9)",
     "output_type": "error",
     "traceback": [
      "\u001b[0;36m  File \u001b[0;32m\"/var/folders/c4/wb13541d4n104gj2c8s0pdf40000gn/T/ipykernel_5333/2791706930.py\"\u001b[0;36m, line \u001b[0;32m9\u001b[0m\n\u001b[0;31m    [calendar.month_name[i] if(i!=2 and i!=4) for i in range(1,13)]\u001b[0m\n\u001b[0m                                              ^\u001b[0m\n\u001b[0;31mSyntaxError\u001b[0m\u001b[0;31m:\u001b[0m invalid syntax\n"
     ]
    }
   ],
   "source": [
    "POT_coef_estimation = pd.read_csv(\"DataGenerated/DailyEVA/POT_estimation.csv\")\n",
    "POT_coef_estimation.rename(columns={'Unnamed: 0': ''}, inplace=True)\n",
    "POT_coef_estimation = POT_coef_estimation.set_index('',drop = True)\n",
    "\n",
    "POT_coef_estimation.style.apply(lambda x: [\"background-color: red\"\n",
    "                          if (i>=6 )\n",
    "                          else \"\" for i, v in enumerate(x)], axis = 1)\n",
    "\n"
   ]
  }
 ],
 "metadata": {
  "kernelspec": {
   "display_name": "Python 3 (ipykernel)",
   "language": "python",
   "name": "python3"
  },
  "language_info": {
   "codemirror_mode": {
    "name": "ipython",
    "version": 3
   },
   "file_extension": ".py",
   "mimetype": "text/x-python",
   "name": "python",
   "nbconvert_exporter": "python",
   "pygments_lexer": "ipython3",
   "version": "3.8.8"
  }
 },
 "nbformat": 4,
 "nbformat_minor": 5
}
